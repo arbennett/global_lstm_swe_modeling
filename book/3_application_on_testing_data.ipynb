{
 "cells": [
  {
   "cell_type": "markdown",
   "id": "5cb35da6-0e5a-40d1-929f-b9416e21944f",
   "metadata": {},
   "source": [
    "# Tutorial 3: Evaluating the trained model on the test data\n",
    "\n",
    "### Outline\n",
    "\n",
    "* Imports, including library code from previous steps\n",
    "* Loading the trained model using hyperparameters and weights file\n",
    "* Setting up the datapipe for the test data\n",
    "* Some functions for \"undoing/inverting\" the ETL pipeline (aka recovering spatiotemporal relations)\n",
    "* Running the trained model in eval mode\n",
    "* Some basic metrics and analysis"
   ]
  },
  {
   "cell_type": "code",
   "execution_count": null,
   "id": "cc651d5a-1941-4746-8901-b0994ae6b919",
   "metadata": {},
   "outputs": [],
   "source": [
    "import torch\n",
    "import xarray as xr\n",
    "import matplotlib.pyplot as plt\n",
    "import warnings\n",
    "\n",
    "from tqdm.autonotebook import tqdm\n",
    "from src.models import create_lstm_model\n",
    "from src.utils import load_experiment\n",
    "from src.datapipes import make_data_pipeline, merge_data, select_region\n",
    "\n",
    "warnings.filterwarnings('ignore')\n",
    "DEVICE = torch.device(\"cuda:0\" if torch.cuda.is_available() else \"cpu\")\n",
    "DEVICE = torch.device('cpu')\n",
    "DTYPE = torch.float32"
   ]
  },
  {
   "cell_type": "code",
   "execution_count": null,
   "id": "2b5579e1-6ba5-41d7-9c4b-077418534ab0",
   "metadata": {},
   "outputs": [],
   "source": [
    "config_file = '../experiments/tutorial/tutorial.yml'\n",
    "config = load_experiment(config_file)\n",
    "model = create_lstm_model(**config['model_config'])\n",
    "model.load_state_dict(torch.load(config['weights_file']))\n",
    "model.to(DEVICE)\n",
    "model.eval()"
   ]
  },
  {
   "cell_type": "code",
   "execution_count": null,
   "id": "b496f474-3a1b-4f39-91bc-ab5bab15a2b5",
   "metadata": {},
   "outputs": [],
   "source": [
    "ds = merge_data()\n",
    "test_data = select_region(\n",
    "    ds.sel(time=config['data_config']['test_period']),\n",
    "    config['data_config']['regions']\n",
    ")"
   ]
  },
  {
   "cell_type": "code",
   "execution_count": null,
   "id": "31cffd4f-e7bd-4a53-a667-1dbce883a64d",
   "metadata": {},
   "outputs": [],
   "source": [
    "true_mask = test_data['mask'].copy()\n",
    "test_data = test_data.fillna(1.0)\n",
    "test_data['mask'].values[:] = 1.0\n",
    "test_data = test_data.fillna(1.0)"
   ]
  },
  {
   "cell_type": "code",
   "execution_count": null,
   "id": "82c9cf88-055e-449d-a1eb-001f01778305",
   "metadata": {},
   "outputs": [],
   "source": [
    "actual_shape = (\n",
    "    len(test_data['lat']),\n",
    "    len(test_data['lon']),\n",
    "    config['data_config']['output_sequence_length']\n",
    ")\n",
    "        "
   ]
  },
  {
   "cell_type": "code",
   "execution_count": null,
   "id": "371d4a82-ea1e-4073-bb92-fc106cc00444",
   "metadata": {},
   "outputs": [],
   "source": [
    "config['data_config']['batch_dims'] = {\n",
    "    'lat': len(test_data['lat']),\n",
    "    'lon': len(test_data['lon'])\n",
    "}"
   ]
  },
  {
   "cell_type": "code",
   "execution_count": null,
   "id": "e60ab2e6-fb2c-4149-9019-aff2ec6f0941",
   "metadata": {},
   "outputs": [],
   "source": [
    "pipe = make_data_pipeline(\n",
    "    ds=test_data, \n",
    "    min_samples=0, \n",
    "    preload=True,\n",
    "    filter_mask=False,\n",
    "    **config['data_config']\n",
    ")"
   ]
  },
  {
   "cell_type": "code",
   "execution_count": null,
   "id": "82692bfe-b984-4cb1-9c86-f6446ae6f376",
   "metadata": {},
   "outputs": [],
   "source": [
    "predictions = []\n",
    "for i, (x, y) in tqdm(enumerate(pipe)):\n",
    "    # if i == 5:\n",
    "    #     break\n",
    "    x = x.to(DEVICE)\n",
    "    with torch.no_grad():\n",
    "        yhat = model(x).cpu()\n",
    "    yhat = yhat.reshape(actual_shape)\n",
    "    predictions.append(yhat)"
   ]
  },
  {
   "cell_type": "code",
   "execution_count": null,
   "id": "05166c7b-f165-4360-8e34-3c48de77a189",
   "metadata": {},
   "outputs": [],
   "source": [
    "test_data"
   ]
  },
  {
   "cell_type": "code",
   "execution_count": null,
   "id": "53b3094e-f542-4410-b13e-8aeaaed87c91",
   "metadata": {},
   "outputs": [],
   "source": [
    "swe_pred = xr.DataArray(\n",
    "    torch.concat(predictions, dim=2).squeeze().cpu(),\n",
    "    dims=('lat', 'lon', 'time')\n",
    ") \n",
    "swe_pred = swe_pred.assign_coords(test_data.drop('time').coords)"
   ]
  },
  {
   "cell_type": "code",
   "execution_count": null,
   "id": "f0e24199-b286-474e-b026-6473603f7c9a",
   "metadata": {},
   "outputs": [],
   "source": [
    "config['data_config']"
   ]
  },
  {
   "cell_type": "code",
   "execution_count": null,
   "id": "0d2a9e66-9e5d-44c5-a50e-734378ada939",
   "metadata": {},
   "outputs": [],
   "source": [
    "start_time = config['data_config']['input_overlap']['time'] "
   ]
  },
  {
   "cell_type": "code",
   "execution_count": null,
   "id": "56f2d00e-fc05-49fb-975c-3f59d47d3327",
   "metadata": {},
   "outputs": [],
   "source": [
    "test_data.isel(time=slice(start_time, None))"
   ]
  },
  {
   "cell_type": "code",
   "execution_count": null,
   "id": "92d45cb7-663f-49ad-9a98-b2813fe3e44f",
   "metadata": {},
   "outputs": [],
   "source": [
    "swe_pred"
   ]
  },
  {
   "cell_type": "code",
   "execution_count": null,
   "id": "15acb5e4-0fe0-43a2-a3d4-8e967fbe0b85",
   "metadata": {},
   "outputs": [],
   "source": [
    "loc = {'lat': 47, 'lon': 245}\n",
    "(test_data['swe'].drop('time')\n",
    "  .isel(time=slice(start_time, None))\n",
    "  .sel(**loc, method='nearest')\n",
    "  .plot())\n",
    "(3 * swe_pred).sel(**loc, method='nearest').plot()"
   ]
  },
  {
   "cell_type": "code",
   "execution_count": null,
   "id": "cb1d6641-364b-4fba-aee9-052b2d874e60",
   "metadata": {},
   "outputs": [],
   "source": [
    "swe_pred.isel(time=slice(120, 400)).mean(dim='time').plot(vmax=0.1, vmin=0, cmap='turbo')"
   ]
  },
  {
   "cell_type": "code",
   "execution_count": null,
   "id": "ee36eb02-28a9-4ef6-b492-47b4e2d4ccfd",
   "metadata": {},
   "outputs": [],
   "source": [
    "(test_data['swe']\n",
    "  .isel(time=slice(start_time, None))\n",
    "  .isel(time=slice(120, 400)).mean(dim='time').plot(vmax=0.1, vmin=0, cmap='turbo'))"
   ]
  },
  {
   "cell_type": "code",
   "execution_count": null,
   "id": "33e96fc8-d0e1-4a2d-9a4a-e84c73139700",
   "metadata": {},
   "outputs": [],
   "source": []
  }
 ],
 "metadata": {
  "kernelspec": {
   "display_name": "Python [conda env:notebook] *",
   "language": "python",
   "name": "conda-env-notebook-py"
  },
  "language_info": {
   "codemirror_mode": {
    "name": "ipython",
    "version": 3
   },
   "file_extension": ".py",
   "mimetype": "text/x-python",
   "name": "python",
   "nbconvert_exporter": "python",
   "pygments_lexer": "ipython3",
   "version": "3.9.13"
  },
  "widgets": {
   "application/vnd.jupyter.widget-state+json": {
    "state": {},
    "version_major": 2,
    "version_minor": 0
   }
  }
 },
 "nbformat": 4,
 "nbformat_minor": 5
}
